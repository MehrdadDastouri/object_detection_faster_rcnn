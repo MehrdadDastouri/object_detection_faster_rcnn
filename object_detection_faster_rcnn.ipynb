{
  "nbformat": 4,
  "nbformat_minor": 0,
  "metadata": {
    "colab": {
      "provenance": [],
      "authorship_tag": "ABX9TyPgo7l23cQfN7mP9AlzOkkH",
      "include_colab_link": true
    },
    "kernelspec": {
      "name": "python3",
      "display_name": "Python 3"
    },
    "language_info": {
      "name": "python"
    }
  },
  "cells": [
    {
      "cell_type": "markdown",
      "metadata": {
        "id": "view-in-github",
        "colab_type": "text"
      },
      "source": [
        "<a href=\"https://colab.research.google.com/github/MehrdadDastouri/object_detection_faster_rcnn/blob/main/object_detection_faster_rcnn.ipynb\" target=\"_parent\"><img src=\"https://colab.research.google.com/assets/colab-badge.svg\" alt=\"Open In Colab\"/></a>"
      ]
    },
    {
      "cell_type": "code",
      "execution_count": 6,
      "metadata": {
        "colab": {
          "base_uri": "https://localhost:8080/",
          "height": 671
        },
        "id": "Mxu6f9hrbwj4",
        "outputId": "21a125a2-8e97-4b2b-92e6-b2a6e48eac11"
      },
      "outputs": [
        {
          "output_type": "stream",
          "name": "stdout",
          "text": [
            "Using device: cpu\n"
          ]
        },
        {
          "output_type": "display_data",
          "data": {
            "text/plain": [
              "<Figure size 1200x800 with 1 Axes>"
            ],
            "image/png": "[encoded data removed]"
          },
          "metadata": {}
        }
      ],
      "source": [
        "# Import necessary libraries\n",
        "import torch\n",
        "from torchvision.models.detection import fasterrcnn_resnet50_fpn\n",
        "from torchvision.transforms import functional as F\n",
        "from PIL import Image, ImageDraw\n",
        "import matplotlib.pyplot as plt\n",
        "import numpy as np\n",
        "\n",
        "# Device configuration\n",
        "device = torch.device(\"cuda\" if torch.cuda.is_available() else \"cpu\")\n",
        "print(f\"Using device: {device}\")\n",
        "\n",
        "# Load a pre-trained Faster R-CNN model\n",
        "model = fasterrcnn_resnet50_fpn(weights=\"DEFAULT\")\n",
        "model = model.to(device)\n",
        "model.eval()\n",
        "\n",
        "# Create a sample image (a blank white image with a black rectangle)\n",
        "width, height = 800, 600\n",
        "image = Image.new(\"RGB\", (width, height), \"white\")\n",
        "draw = ImageDraw.Draw(image)\n",
        "draw.rectangle([200, 150, 600, 450], outline=\"black\", width=5)  # Draw a rectangle\n",
        "\n",
        "# Save the generated image locally (optional)\n",
        "image.save(\"generated_sample_image.jpg\")\n",
        "\n",
        "# Preprocess the image\n",
        "image_tensor = F.to_tensor(image).unsqueeze(0).to(device)\n",
        "\n",
        "# Perform object detection\n",
        "with torch.no_grad():\n",
        "    predictions = model(image_tensor)\n",
        "\n",
        "# Extract predictions\n",
        "boxes = predictions[0]['boxes'].cpu().numpy()\n",
        "labels = predictions[0]['labels'].cpu().numpy()\n",
        "scores = predictions[0]['scores'].cpu().numpy()\n",
        "\n",
        "# Filter predictions by confidence score\n",
        "threshold = 0.5\n",
        "filtered_boxes = boxes[scores > threshold]\n",
        "filtered_labels = labels[scores > threshold]\n",
        "filtered_scores = scores[scores > threshold]\n",
        "\n",
        "# Load COCO labels\n",
        "COCO_INSTANCE_CATEGORY_NAMES = [\n",
        "    '__background__', 'person', 'bicycle', 'car', 'motorcycle', 'airplane', 'bus',\n",
        "    'train', 'truck', 'boat', 'traffic light', 'fire hydrant', 'N/A', 'stop sign',\n",
        "    'parking meter', 'bench', 'bird', 'cat', 'dog', 'horse', 'sheep', 'cow',\n",
        "    'elephant', 'bear', 'zebra', 'giraffe', 'N/A', 'backpack', 'umbrella',\n",
        "    'N/A', 'N/A', 'handbag', 'tie', 'suitcase', 'frisbee', 'skis', 'snowboard',\n",
        "    'sports ball', 'kite', 'baseball bat', 'baseball glove', 'skateboard',\n",
        "    'surfboard', 'tennis racket', 'bottle', 'N/A', 'wine glass', 'cup', 'fork',\n",
        "    'knife', 'spoon', 'bowl', 'banana', 'apple', 'sandwich', 'orange', 'broccoli',\n",
        "    'carrot', 'hot dog', 'pizza', 'donut', 'cake', 'chair', 'couch', 'potted plant',\n",
        "    'bed', 'N/A', 'dining table', 'N/A', 'N/A', 'toilet', 'N/A', 'tv', 'laptop',\n",
        "    'mouse', 'remote', 'keyboard', 'cell phone', 'microwave', 'oven', 'toaster',\n",
        "    'sink', 'refrigerator', 'N/A', 'book', 'clock', 'vase', 'scissors', 'teddy bear',\n",
        "    'hair drier', 'toothbrush'\n",
        "]\n",
        "\n",
        "# Visualize the detections\n",
        "def visualize_detections(image, boxes, labels, scores):\n",
        "    plt.figure(figsize=(12, 8))\n",
        "    plt.imshow(image)\n",
        "    ax = plt.gca()\n",
        "\n",
        "    for box, label, score in zip(boxes, labels, scores):\n",
        "        x_min, y_min, x_max, y_max = box\n",
        "        width, height = x_max - x_min, y_max - y_min\n",
        "\n",
        "        # Draw the bounding box\n",
        "        ax.add_patch(plt.Rectangle((x_min, y_min), width, height, edgecolor='red', facecolor='none', linewidth=2))\n",
        "\n",
        "        # Add label and score\n",
        "        label_text = f\"{COCO_INSTANCE_CATEGORY_NAMES[label]}: {score:.2f}\"\n",
        "        ax.text(x_min, y_min, label_text, fontsize=10, color='white', bbox=dict(facecolor='red', alpha=0.5))\n",
        "\n",
        "    plt.axis(\"off\")\n",
        "    plt.show()\n",
        "\n",
        "# Convert the image back to NumPy format for visualization\n",
        "image_np = np.array(image)\n",
        "\n",
        "# Visualize the filtered detections\n",
        "visualize_detections(image_np, filtered_boxes, filtered_labels, filtered_scores)"
      ]
    }
  ]
}